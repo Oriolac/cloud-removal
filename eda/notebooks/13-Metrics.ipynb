{
 "cells": [
  {
   "cell_type": "code",
   "execution_count": 2,
   "source": [
    "import torch\r\n",
    "import numpy as np\r\n",
    "from skimage.metrics import structural_similarity as ssim\r\n",
    "import rasterio as rio"
   ],
   "outputs": [],
   "metadata": {}
  },
  {
   "cell_type": "code",
   "execution_count": 7,
   "source": [
    "\r\n",
    "def open_image(path, i=1, s=13):\r\n",
    "    img = rio.open(path)\r\n",
    "    img = np.stack([img.read(b) for b in range(i, s + 1)])\r\n",
    "    return torch.from_numpy(img / 10000)\r\n",
    "\r\n",
    "img0 = open_image(r\"C:\\Users\\oriol.alas\\PROJECTS\\LACLASSE\\eda\\notebooks\\data\\ts\\sample_imgs\\s2_ROIs2017_146_ImgNo_0_2018-01-06_patch_0.tif\")\r\n",
    "img1 = open_image(r\"C:\\Users\\oriol.alas\\PROJECTS\\LACLASSE\\eda\\notebooks\\data\\ts\\sample_imgs\\s2_ROIs2017_146_ImgNo_1_2018-01-21_patch_0.tif\")"
   ],
   "outputs": [],
   "metadata": {}
  },
  {
   "cell_type": "code",
   "execution_count": 21,
   "source": [
    "def calculate_psnr(im1, im2):\r\n",
    "    mse = torch.mean((im1 - im2) ** 2)\r\n",
    "    psnr = 20 * torch.log10(1.0 / torch.sqrt(mse))\r\n",
    "    return psnr.item()\r\n",
    "\r\n",
    "def calculate_ssim(im1, im2):\r\n",
    "    im1 = np.array(im1)\r\n",
    "    im2 = np.array(im2)\r\n",
    "    return ssim(im1, im2, multichannel=True, data_range=1)\r\n",
    "\r\n",
    "calculate_psnr(img0, img1), calculate_ssim(img0, img1)"
   ],
   "outputs": [
    {
     "output_type": "execute_result",
     "data": {
      "text/plain": [
       "(22.984916004524486, 0.7160157503407514)"
      ]
     },
     "metadata": {},
     "execution_count": 21
    }
   ],
   "metadata": {}
  },
  {
   "cell_type": "code",
   "execution_count": 23,
   "source": [
    "calculate_ssim(img0, img1)"
   ],
   "outputs": [
    {
     "output_type": "execute_result",
     "data": {
      "text/plain": [
       "0.7160157503407514"
      ]
     },
     "metadata": {},
     "execution_count": 23
    }
   ],
   "metadata": {}
  },
  {
   "cell_type": "code",
   "execution_count": 34,
   "source": [
    "st = torch.stack([img0, img1])\r\n",
    "for i in range(st.size(0)):\r\n",
    "    print(calculate_ssim(st[i], st[i]))"
   ],
   "outputs": [
    {
     "output_type": "stream",
     "name": "stdout",
     "text": [
      "1.0\n",
      "1.0\n"
     ]
    }
   ],
   "metadata": {}
  },
  {
   "cell_type": "code",
   "execution_count": 39,
   "source": [
    "float(np.mean([[0,1],[1,0]]))"
   ],
   "outputs": [
    {
     "output_type": "execute_result",
     "data": {
      "text/plain": [
       "0.5"
      ]
     },
     "metadata": {},
     "execution_count": 39
    }
   ],
   "metadata": {}
  }
 ],
 "metadata": {
  "orig_nbformat": 4,
  "language_info": {
   "name": "python",
   "version": "3.11.4",
   "mimetype": "text/x-python",
   "codemirror_mode": {
    "name": "ipython",
    "version": 3
   },
   "pygments_lexer": "ipython3",
   "nbconvert_exporter": "python",
   "file_extension": ".py"
  },
  "kernelspec": {
   "name": "python3",
   "display_name": "Python 3.11.4 64-bit (system)"
  },
  "interpreter": {
   "hash": "ea3345c1bd84b79737a3551a8b247cc2973f5c1c2446a31ed25fabc63f8a1802"
  }
 },
 "nbformat": 4,
 "nbformat_minor": 2
}