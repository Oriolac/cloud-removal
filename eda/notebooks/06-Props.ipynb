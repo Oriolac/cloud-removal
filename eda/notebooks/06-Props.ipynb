{
 "cells": [
  {
   "cell_type": "code",
   "execution_count": 3,
   "source": [
    "import rasterio as rio\r\n",
    "from pathlib import Path\r\n",
    "import numpy as np\r\n",
    "import matplotlib.pyplot as plt\r\n",
    "from skimage.metrics import mean_squared_error\r\n",
    "import seaborn as sns\r\n",
    "from functools import reduce"
   ],
   "outputs": [],
   "metadata": {}
  },
  {
   "cell_type": "code",
   "execution_count": 4,
   "source": [
    "def scaled(x):\r\n",
    "    min_val, max_val = np.percentile(x, (2, 98))\r\n",
    "\r\n",
    "    # Scale the pixel values to the range of 0-255\r\n",
    "    return np.interp(x, (min_val, max_val), (0, 255)).astype(np.uint8)\r\n",
    "\r\n",
    "def sigmoid(x):\r\n",
    "    return 255 / (1 + np.exp(-4 * (scaled(x) / 255 - 0.5)))\r\n",
    "\r\n",
    "def get_detect_cloud_bands(img):\r\n",
    "    bands = [sigmoid(img.read(b)) for b in img.indexes]\r\n",
    "    bands = np.stack(bands)\r\n",
    "    return bands.transpose(1,2,0).astype(np.uint)\r\n",
    "    "
   ],
   "outputs": [],
   "metadata": {}
  },
  {
   "cell_type": "code",
   "execution_count": 5,
   "source": [
    "path = Path('../../imgs')\r\n",
    "images = {p.name: p  for p in path.iterdir()}\r\n",
    "path_imgs = [im for im in images['s2'].iterdir()]\r\n",
    "rio_cloudless = [get_detect_cloud_bands(rio.open(path)) for path in path_imgs]\r\n",
    "path_imgs = [im for im in images['s2_cloudy'].iterdir()]\r\n",
    "rio_cloudies = [get_detect_cloud_bands(rio.open(path)) for path in path_imgs]"
   ],
   "outputs": [],
   "metadata": {}
  },
  {
   "cell_type": "code",
   "execution_count": 6,
   "source": [
    "rio_cloudless[0]"
   ],
   "outputs": [
    {
     "output_type": "execute_result",
     "data": {
      "text/plain": [
       "array([[[ 86, 128,  98, ..., 106,  51,  75],\n",
       "        [ 91, 110,  97, ...,  67,  49,  77],\n",
       "        [ 91,  99, 101, ...,  67,  50,  78],\n",
       "        ...,\n",
       "        [109, 127, 148, ..., 106, 102, 117],\n",
       "        [109, 148, 143, ..., 106, 104, 115],\n",
       "        [109, 131, 153, ..., 106, 110, 109]],\n",
       "\n",
       "       [[ 84,  79,  88, ..., 106,  55,  84],\n",
       "        [ 91,  99,  84, ...,  67,  50,  79],\n",
       "        [ 91, 110,  89, ...,  67,  50,  79],\n",
       "        ...,\n",
       "        [109, 114, 146, ..., 106, 109, 117],\n",
       "        [109, 119, 155, ..., 106, 110, 116],\n",
       "        [109, 133, 157, ..., 106, 114, 110]],\n",
       "\n",
       "       [[ 84,  79,  91, ..., 106,  62,  97],\n",
       "        [ 91,  92,  86, ...,  67,  53,  85],\n",
       "        [ 91, 120,  90, ...,  67,  52,  82],\n",
       "        ...,\n",
       "        [115, 120, 152, ..., 106, 109, 118],\n",
       "        [118,  97, 149, ..., 106, 110, 117],\n",
       "        [118, 129, 158, ..., 106, 114, 112]],\n",
       "\n",
       "       ...,\n",
       "\n",
       "       [[174, 161, 158, ..., 127, 163, 172],\n",
       "        [153, 166, 178, ..., 106, 165, 171],\n",
       "        [150, 165, 184, ..., 106, 168, 172],\n",
       "        ...,\n",
       "        [ 48,  47,  30, ...,  86,  35,  40],\n",
       "        [ 48,  30,  30, ...,  86,  33,  38],\n",
       "        [ 48,  30,  30, ...,  86,  31,  33]],\n",
       "\n",
       "       [[174, 159, 165, ..., 127, 163, 172],\n",
       "        [153, 178, 181, ..., 106, 165, 171],\n",
       "        [147, 161, 192, ..., 106, 168, 172],\n",
       "        ...,\n",
       "        [ 48,  49,  33, ...,  86,  31,  38],\n",
       "        [ 50,  71,  41, ...,  86,  30,  37],\n",
       "        [ 50,  52,  42, ...,  86,  30,  32]],\n",
       "\n",
       "       [[169, 175, 177, ..., 214, 168, 176],\n",
       "        [144, 181, 187, ..., 147, 167, 178],\n",
       "        [138, 165, 193, ..., 147, 169, 180],\n",
       "        ...,\n",
       "        [ 67,  36,  52, ..., 106,  35,  40],\n",
       "        [ 67,  79,  65, ..., 106,  35,  40],\n",
       "        [ 69,  78,  54, ..., 106,  35,  42]]], dtype=uint32)"
      ]
     },
     "metadata": {},
     "execution_count": 6
    }
   ],
   "metadata": {}
  },
  {
   "cell_type": "code",
   "execution_count": 19,
   "source": [
    "def props(img):\r\n",
    "    res = {}\r\n",
    "    for b in range(img.shape[-1]):\r\n",
    "        band_str = 'band_{}'.format(b+1)\r\n",
    "        band_dict = {}\r\n",
    "        band_dict[f'mean'] = img[:, :, b].mean()\r\n",
    "        band_dict[f'median'] = np.percentile(img[:, :, b], 50)\r\n",
    "        band_dict[f'p25'] = np.percentile(img[:, :, b], 25)\r\n",
    "        band_dict[f'p75'] = np.percentile(img[:, :, b], 75)\r\n",
    "        band_dict[f'std'] = img[:, :, b].std()\r\n",
    "        res[band_str] = band_dict\r\n",
    "    return res\r\n",
    "props(rio_cloudless[0])"
   ],
   "outputs": [
    {
     "output_type": "execute_result",
     "data": {
      "text/plain": [
       "{'band_1': {'mean': 107.60281372070312,\n",
       "  'median': 100.0,\n",
       "  'p25': 79.0,\n",
       "  'p75': 135.0,\n",
       "  'std': 44.29389857882789},\n",
       " 'band_2': {'mean': 119.41436767578125,\n",
       "  'median': 117.0,\n",
       "  'p25': 87.0,\n",
       "  'p75': 151.0,\n",
       "  'std': 47.288141497469915},\n",
       " 'band_3': {'mean': 117.61798095703125,\n",
       "  'median': 109.0,\n",
       "  'p25': 80.0,\n",
       "  'p75': 156.0,\n",
       "  'std': 50.50850519319692},\n",
       " 'band_4': {'mean': 118.9580078125,\n",
       "  'median': 120.0,\n",
       "  'p25': 90.0,\n",
       "  'p75': 147.0,\n",
       "  'std': 45.595466889966175},\n",
       " 'band_5': {'mean': 98.98638916015625,\n",
       "  'median': 83.0,\n",
       "  'p25': 60.0,\n",
       "  'p75': 130.0,\n",
       "  'std': 49.979488263867665},\n",
       " 'band_6': {'mean': 84.59135437011719,\n",
       "  'median': 64.0,\n",
       "  'p25': 42.0,\n",
       "  'p75': 119.0,\n",
       "  'std': 52.38822403147514},\n",
       " 'band_7': {'mean': 83.18063354492188,\n",
       "  'median': 64.0,\n",
       "  'p25': 40.0,\n",
       "  'p75': 115.0,\n",
       "  'std': 51.963664881896044},\n",
       " 'band_8': {'mean': 83.18502807617188,\n",
       "  'median': 62.0,\n",
       "  'p25': 40.0,\n",
       "  'p75': 113.0,\n",
       "  'std': 52.70838137571431},\n",
       " 'band_9': {'mean': 83.99592590332031,\n",
       "  'median': 67.0,\n",
       "  'p25': 39.0,\n",
       "  'p75': 113.0,\n",
       "  'std': 52.85752257486461},\n",
       " 'band_10': {'mean': 89.9010009765625,\n",
       "  'median': 74.0,\n",
       "  'p25': 44.0,\n",
       "  'p75': 125.0,\n",
       "  'std': 53.457669304275804},\n",
       " 'band_11': {'mean': 131.47576904296875,\n",
       "  'median': 106.0,\n",
       "  'p25': 86.0,\n",
       "  'p75': 186.0,\n",
       "  'std': 51.20108057330815},\n",
       " 'band_12': {'mean': 104.34858703613281,\n",
       "  'median': 91.0,\n",
       "  'p25': 64.0,\n",
       "  'p75': 138.0,\n",
       "  'std': 51.51434237999053},\n",
       " 'band_13': {'mean': 115.53031921386719,\n",
       "  'median': 110.0,\n",
       "  'p25': 81.0,\n",
       "  'p75': 147.0,\n",
       "  'std': 46.948810013177905}}"
      ]
     },
     "metadata": {},
     "execution_count": 19
    }
   ],
   "metadata": {}
  }
 ],
 "metadata": {
  "orig_nbformat": 4,
  "language_info": {
   "name": "python",
   "version": "3.10.11",
   "mimetype": "text/x-python",
   "codemirror_mode": {
    "name": "ipython",
    "version": 3
   },
   "pygments_lexer": "ipython3",
   "nbconvert_exporter": "python",
   "file_extension": ".py"
  },
  "kernelspec": {
   "name": "python3",
   "display_name": "Python 3.10.11 64-bit"
  },
  "interpreter": {
   "hash": "f2a6f33ade3022fa100fe59606e73178c5c522bc79703f2f0a0755e6d7a8a268"
  }
 },
 "nbformat": 4,
 "nbformat_minor": 2
}