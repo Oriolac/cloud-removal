{
 "cells": [
  {
   "cell_type": "code",
   "execution_count": 1,
   "source": [
    "import image_metrics as im\r\n",
    "import image_metrics_pytorch as imp\r\n",
    "import numpy as np\r\n",
    "import tensorflow as tf\r\n",
    "import torch\r\n",
    "from torch import nn\r\n",
    "import time\r\n",
    "from torchmetrics.image import StructuralSimilarityIndexMeasure\r\n"
   ],
   "outputs": [],
   "metadata": {}
  },
  {
   "cell_type": "code",
   "execution_count": 2,
   "source": [
    "a = np.random.random((1, 13, 256, 256))\r\n",
    "b = np.random.random((1, 13, 256, 256))\r\n",
    "\r\n",
    "\r\n",
    "\r\n",
    "METRICS = {\r\n",
    "    \"MAE\": [im.cloud_mean_absolute_error, imp.cloud_mean_absolute_error],\r\n",
    "    \"MSE\": [im.cloud_mean_squared_error, imp.cloud_mean_squared_error],\r\n",
    "    \"RMSE\": [im.cloud_root_mean_squared_error, imp.cloud_root_mean_squared_error],\r\n",
    "    \"BRMSE\": [im.cloud_bandwise_root_mean_squared_error, imp.cloud_bandwise_root_mean_squared_error],\r\n",
    "    \"SSIM\": [im.cloud_ssim, StructuralSimilarityIndexMeasure(data_range=1.0)],\r\n",
    "    \"SAM\": [im.get_sam, imp.get_sam],\r\n",
    "    \"MSAM\": [im.cloud_mean_sam, imp.cloud_mean_sam],\r\n",
    "    \"MSAM covered\": [im.cloud_mean_sam_covered, imp.cloud_mean_sam_covered],\r\n",
    "    \"MSAM clear\": [im.cloud_mean_sam_clear, imp.cloud_mean_sam_clear],\r\n",
    "    \"PSNR\": [im.cloud_psnr, imp.cloud_PSNR],\r\n",
    "}\r\n",
    "\r\n",
    "for metric_name, (metric_tf, metric_to) in METRICS.items():\r\n",
    "    print(metric_name, metric_tf(a, b), metric_to(torch.from_numpy(a),torch.from_numpy(b)))"
   ],
   "outputs": [
    {
     "output_type": "stream",
     "name": "stdout",
     "text": [
      "MAE tf.Tensor(0.3332056196119924, shape=(), dtype=float64) tensor(0.3332, dtype=torch.float64)\n",
      "MSE tf.Tensor(0.16657616341452655, shape=(), dtype=float64) tensor(0.1666, dtype=torch.float64)\n",
      "RMSE tf.Tensor(0.4081374320183418, shape=(), dtype=float64) tensor(0.4081, dtype=torch.float64)\n",
      "BRMSE tf.Tensor(0.4081368978846923, shape=(), dtype=float64) tensor(0.4081, dtype=torch.float64)\n",
      "SSIM tf.Tensor(0.12270127, shape=(), dtype=float32) tensor(-0.0001)\n",
      "SAM tf.Tensor(0.701902688431285, shape=(), dtype=float64) tensor(0.7019, dtype=torch.float64)\n",
      "MSAM tf.Tensor(0.701902688431285, shape=(), dtype=float64) tensor(0.7019, dtype=torch.float64)\n"
     ]
    },
    {
     "output_type": "error",
     "ename": "InvalidArgumentError",
     "evalue": "{{function_node __wrapped__ExpandDims_device_/job:localhost/replica:0/task:0/device:CPU:0}} Tried to expand dim index 1 for tensor with 0 dimensions. [Op:ExpandDims] name: ",
     "traceback": [
      "\u001b[1;31m---------------------------------------------------------------------------\u001b[0m",
      "\u001b[1;31mInvalidArgumentError\u001b[0m                      Traceback (most recent call last)",
      "Cell \u001b[1;32mIn[2], line 20\u001b[0m\n\u001b[0;32m      6\u001b[0m METRICS \u001b[38;5;241m=\u001b[39m {\n\u001b[0;32m      7\u001b[0m     \u001b[38;5;124m\"\u001b[39m\u001b[38;5;124mMAE\u001b[39m\u001b[38;5;124m\"\u001b[39m: [im\u001b[38;5;241m.\u001b[39mcloud_mean_absolute_error, imp\u001b[38;5;241m.\u001b[39mcloud_mean_absolute_error],\n\u001b[0;32m      8\u001b[0m     \u001b[38;5;124m\"\u001b[39m\u001b[38;5;124mMSE\u001b[39m\u001b[38;5;124m\"\u001b[39m: [im\u001b[38;5;241m.\u001b[39mcloud_mean_squared_error, imp\u001b[38;5;241m.\u001b[39mcloud_mean_squared_error],\n\u001b[1;32m   (...)\u001b[0m\n\u001b[0;32m     16\u001b[0m     \u001b[38;5;124m\"\u001b[39m\u001b[38;5;124mPSNR\u001b[39m\u001b[38;5;124m\"\u001b[39m: [im\u001b[38;5;241m.\u001b[39mcloud_psnr, imp\u001b[38;5;241m.\u001b[39mcloud_PSNR],\n\u001b[0;32m     17\u001b[0m }\n\u001b[0;32m     19\u001b[0m \u001b[38;5;28;01mfor\u001b[39;00m metric_name, (metric_tf, metric_to) \u001b[38;5;129;01min\u001b[39;00m METRICS\u001b[38;5;241m.\u001b[39mitems():\n\u001b[1;32m---> 20\u001b[0m     \u001b[38;5;28mprint\u001b[39m(metric_name, \u001b[43mmetric_tf\u001b[49m\u001b[43m(\u001b[49m\u001b[43ma\u001b[49m\u001b[43m,\u001b[49m\u001b[43m \u001b[49m\u001b[43mb\u001b[49m\u001b[43m)\u001b[49m, metric_to(torch\u001b[38;5;241m.\u001b[39mfrom_numpy(a),torch\u001b[38;5;241m.\u001b[39mfrom_numpy(b)))\n",
      "File \u001b[1;32mc:\\Users\\oriol.alas\\PROJECTS\\LACLASSE\\eda\\notebooks\\image_metrics.py:69\u001b[0m, in \u001b[0;36mcloud_mean_sam_covered\u001b[1;34m(y_true, y_pred)\u001b[0m\n\u001b[0;32m     66\u001b[0m     \u001b[38;5;28;01mreturn\u001b[39;00m \u001b[38;5;241m0.0\u001b[39m\n\u001b[0;32m     68\u001b[0m sam \u001b[38;5;241m=\u001b[39m get_sam(target, predicted)\n\u001b[1;32m---> 69\u001b[0m sam \u001b[38;5;241m=\u001b[39m \u001b[43mtf\u001b[49m\u001b[38;5;241;43m.\u001b[39;49m\u001b[43mexpand_dims\u001b[49m\u001b[43m(\u001b[49m\u001b[43msam\u001b[49m\u001b[43m,\u001b[49m\u001b[43m \u001b[49m\u001b[38;5;241;43m1\u001b[39;49m\u001b[43m)\u001b[49m\n\u001b[0;32m     70\u001b[0m sam \u001b[38;5;241m=\u001b[39m K\u001b[38;5;241m.\u001b[39msum(cloud_cloudshadow_mask \u001b[38;5;241m*\u001b[39m sam) \u001b[38;5;241m/\u001b[39m K\u001b[38;5;241m.\u001b[39msum(cloud_cloudshadow_mask)\n\u001b[0;32m     72\u001b[0m \u001b[38;5;28;01mreturn\u001b[39;00m sam\n",
      "File \u001b[1;32mc:\\Users\\oriol.alas\\VENVS\\tensorvenv\\Lib\\site-packages\\tensorflow\\python\\util\\traceback_utils.py:153\u001b[0m, in \u001b[0;36mfilter_traceback.<locals>.error_handler\u001b[1;34m(*args, **kwargs)\u001b[0m\n\u001b[0;32m    151\u001b[0m \u001b[38;5;28;01mexcept\u001b[39;00m \u001b[38;5;167;01mException\u001b[39;00m \u001b[38;5;28;01mas\u001b[39;00m e:\n\u001b[0;32m    152\u001b[0m   filtered_tb \u001b[38;5;241m=\u001b[39m _process_traceback_frames(e\u001b[38;5;241m.\u001b[39m__traceback__)\n\u001b[1;32m--> 153\u001b[0m   \u001b[38;5;28;01mraise\u001b[39;00m e\u001b[38;5;241m.\u001b[39mwith_traceback(filtered_tb) \u001b[38;5;28;01mfrom\u001b[39;00m \u001b[38;5;28;01mNone\u001b[39;00m\n\u001b[0;32m    154\u001b[0m \u001b[38;5;28;01mfinally\u001b[39;00m:\n\u001b[0;32m    155\u001b[0m   \u001b[38;5;28;01mdel\u001b[39;00m filtered_tb\n",
      "File \u001b[1;32mc:\\Users\\oriol.alas\\VENVS\\tensorvenv\\Lib\\site-packages\\tensorflow\\python\\framework\\ops.py:6656\u001b[0m, in \u001b[0;36mraise_from_not_ok_status\u001b[1;34m(e, name)\u001b[0m\n\u001b[0;32m   6654\u001b[0m \u001b[38;5;28;01mdef\u001b[39;00m \u001b[38;5;21mraise_from_not_ok_status\u001b[39m(e, name):\n\u001b[0;32m   6655\u001b[0m   e\u001b[38;5;241m.\u001b[39mmessage \u001b[38;5;241m+\u001b[39m\u001b[38;5;241m=\u001b[39m (\u001b[38;5;124m\"\u001b[39m\u001b[38;5;124m name: \u001b[39m\u001b[38;5;124m\"\u001b[39m \u001b[38;5;241m+\u001b[39m \u001b[38;5;28mstr\u001b[39m(name \u001b[38;5;28;01mif\u001b[39;00m name \u001b[38;5;129;01mis\u001b[39;00m \u001b[38;5;129;01mnot\u001b[39;00m \u001b[38;5;28;01mNone\u001b[39;00m \u001b[38;5;28;01melse\u001b[39;00m \u001b[38;5;124m\"\u001b[39m\u001b[38;5;124m\"\u001b[39m))\n\u001b[1;32m-> 6656\u001b[0m   \u001b[38;5;28;01mraise\u001b[39;00m core\u001b[38;5;241m.\u001b[39m_status_to_exception(e) \u001b[38;5;28;01mfrom\u001b[39;00m \u001b[38;5;28;01mNone\u001b[39;00m\n",
      "\u001b[1;31mInvalidArgumentError\u001b[0m: {{function_node __wrapped__ExpandDims_device_/job:localhost/replica:0/task:0/device:CPU:0}} Tried to expand dim index 1 for tensor with 0 dimensions. [Op:ExpandDims] name: "
     ]
    }
   ],
   "metadata": {}
  },
  {
   "cell_type": "code",
   "execution_count": null,
   "source": [
    "from skimage.metrics import structural_similarity as ssim\r\n",
    "ssim_t = StructuralSimilarityIndexMeasure(data_range=1.0)\r\n",
    "start = time.time()\r\n",
    "a_ = ssim(a[0, :, : , :], b[0, :, : , :], data_range=1)\r\n",
    "print(time.time() - start)\r\n",
    "aa  =torch.from_numpy(np.random.random((1, 13, 256, 256)))\r\n",
    "bb = torch.from_numpy(np.random.random((1, 13, 256, 256)))\r\n",
    "start = time.time()\r\n",
    "b_ = ssim_t(aa, bb)\r\n",
    "print(time.time() - start)\r\n",
    "1 - a_, 1 - b_"
   ],
   "outputs": [
    {
     "output_type": "stream",
     "name": "stdout",
     "text": [
      "1.2506773471832275\n",
      "15.120155811309814\n"
     ]
    },
    {
     "output_type": "execute_result",
     "data": {
      "text/plain": [
       "(0.9989486011183959, tensor(0.9952))"
      ]
     },
     "metadata": {},
     "execution_count": 40
    }
   ],
   "metadata": {}
  }
 ],
 "metadata": {
  "orig_nbformat": 4,
  "language_info": {
   "name": "python",
   "version": "3.11.4",
   "mimetype": "text/x-python",
   "codemirror_mode": {
    "name": "ipython",
    "version": 3
   },
   "pygments_lexer": "ipython3",
   "nbconvert_exporter": "python",
   "file_extension": ".py"
  },
  "kernelspec": {
   "name": "python3",
   "display_name": "Python 3.11.4 64-bit ('tensorvenv': venv)"
  },
  "interpreter": {
   "hash": "b90e70ef3fcb37e3bffaccaf3eed739ea55b96e33213b96ae24841a251da71dc"
  }
 },
 "nbformat": 4,
 "nbformat_minor": 2
}