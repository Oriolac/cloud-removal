{
 "cells": [
  {
   "cell_type": "code",
   "execution_count": 5,
   "source": [
    "from torch import nn\r\n",
    "\r\n",
    "import torch\r\n",
    "\r\n",
    "\r\n",
    "\r\n",
    "class ResidualBlock(nn.Module):\r\n",
    "    def __init__(self, in_channels, out_channels, stride=1):\r\n",
    "        super(ResidualBlock, self).__init__()\r\n",
    "\r\n",
    "        self.conv1 = nn.Conv2d(in_channels, out_channels, kernel_size=(3, 3), stride=(stride, stride), padding=1,\r\n",
    "                               bias=False)\r\n",
    "        self.bn1 = nn.BatchNorm2d(out_channels)\r\n",
    "        self.relu = nn.ReLU(inplace=True)\r\n",
    "\r\n",
    "        self.conv2 = nn.Conv2d(out_channels, out_channels, kernel_size=(3, 3), stride=(1, 1), padding=1, bias=False)\r\n",
    "        self.bn2 = nn.BatchNorm2d(out_channels)\r\n",
    "\r\n",
    "        self.shortcut = nn.Sequential()\r\n",
    "        if in_channels != out_channels or stride != 1:\r\n",
    "            self.shortcut = nn.Sequential(\r\n",
    "                nn.Conv2d(in_channels, out_channels, kernel_size=(1, 1), stride=(stride, stride), bias=False),\r\n",
    "                nn.BatchNorm2d(out_channels)\r\n",
    "            )\r\n",
    "\r\n",
    "    def forward(self, x):\r\n",
    "        out = self.relu(self.bn1(self.conv1(x)))\r\n",
    "        out = self.bn2(self.conv2(out))\r\n",
    "        out += self.shortcut(x)\r\n",
    "        out = self.relu(out)\r\n",
    "        return out\r\n",
    "\r\n",
    "class SimpleCNN(nn.Module):\r\n",
    "\r\n",
    "    def __init__(self, input_channels, hidden_channels, output_channels):\r\n",
    "        super(SimpleCNN, self).__init__()\r\n",
    "        self.input_channels = input_channels\r\n",
    "        self.hidden_channels = hidden_channels\r\n",
    "        self.output_channels = output_channels\r\n",
    "\r\n",
    "        last_channel = input_channels\r\n",
    "        for hidden_channel in hidden_channels:\r\n",
    "            setattr(self, \"resblock_{}\".format(hidden_channel),\r\n",
    "                    ResidualBlock(last_channel, hidden_channel))\r\n",
    "            last_channel = hidden_channel\r\n",
    "\r\n",
    "    def forward(self, x):\r\n",
    "        # Pass input 'x' through each of the ResnetBlock layers\r\n",
    "        for hidden_channel in self.hidden_channels:\r\n",
    "            x = getattr(self, \"resblock_{}\".format(hidden_channel))(x)\r\n",
    "  \r\n",
    "        # You can add additional layers or operations here if needed\r\n",
    "        \r\n",
    "        return x\r\n",
    "\r\n",
    "\r\n",
    "# Example usage:\r\n",
    "input_channels = 13\r\n",
    "hidden_channels = [64, 128, 256]\r\n",
    "output_channels = 1\r\n",
    "\r\n",
    "model = SimpleCNN(input_channels, hidden_channels, output_channels)\r\n",
    "input_data = torch.randn(1, input_channels, 32, 32)  # Example input data\r\n",
    "sum((p.numel() for p in model.parameters()))"
   ],
   "outputs": [
    {
     "output_type": "execute_result",
     "data": {
      "text/plain": [
       "1194752"
      ]
     },
     "metadata": {},
     "execution_count": 5
    }
   ],
   "metadata": {}
  }
 ],
 "metadata": {
  "orig_nbformat": 4,
  "language_info": {
   "name": "python",
   "version": "3.11.4",
   "mimetype": "text/x-python",
   "codemirror_mode": {
    "name": "ipython",
    "version": 3
   },
   "pygments_lexer": "ipython3",
   "nbconvert_exporter": "python",
   "file_extension": ".py"
  },
  "kernelspec": {
   "name": "python3",
   "display_name": "Python 3.11.4 64-bit (system)"
  },
  "interpreter": {
   "hash": "ea3345c1bd84b79737a3551a8b247cc2973f5c1c2446a31ed25fabc63f8a1802"
  }
 },
 "nbformat": 4,
 "nbformat_minor": 2
}